{
 "cells": [
  {
   "cell_type": "code",
   "execution_count": 21,
   "metadata": {},
   "outputs": [
    {
     "name": "stdout",
     "output_type": "stream",
     "text": [
      "<code>NAO-Energy:___________________5 247 171</code>\n",
      "<code>СЕНИМДИ КУРЫЛЫС ТОО:____________133 202</code>\n",
      "<code>ТОО \"STA Technologies\":_________116 254</code>\n",
      "<code>Промет ТОО:_____________________104 821</code>\n",
      "<code>Доходы при обмене валюты:________48 151</code>\n",
      "<code>АО \"Народный Банк Казахстана\":____5 250</code>\n",
      "<code>Курсовые разницы:______________-112 430</code>\n"
     ]
    }
   ],
   "source": [
    "text = {\n",
    "    'NAO-Energy': 5247171,\n",
    "    'СЕНИМДИ КУРЫЛЫС ТОО': 133202,\n",
    "    'ТОО \"STA Technologies\"': 116254,\n",
    "    'Промет ТОО': 104821,\n",
    "    'Доходы при обмене валюты': 48151,\n",
    "    'АО \"Народный Банк Казахстана\"': 5250,\n",
    "    'Курсовые разницы': -112430\n",
    "}\n",
    "\n",
    "def text_by_rows(dictionary: dict[str, int | str]) -> str:\n",
    "    \"Function to convert a dictionary to string and split it by string\"\n",
    "    dictionary = {str(key): value for key, value in dictionary.items()}\n",
    "    \n",
    "    max_length = max(len(key) + len(str(value)) for key, value in dictionary.items())\n",
    "    formatted_lines = []\n",
    "    for key, value in dictionary.items():\n",
    "        if isinstance(value, int):\n",
    "            formatted_value = f'{value:,}'.replace(',', ' ')\n",
    "            # formatted_value = f'{formatted_value:>20}'\n",
    "        else:\n",
    "            formatted_value = str(value)\n",
    "        formatted_line = f'{key}:{\"_\"*(max_length+5-len(key)-len(formatted_value))}{formatted_value}</code>'\n",
    "        formatted_lines.append(formatted_line)\n",
    "    return '\\n'.join(formatted_lines)\n",
    "\n",
    "print(text_by_rows(text))"
   ]
  }
 ],
 "metadata": {
  "kernelspec": {
   "display_name": "Python 3",
   "language": "python",
   "name": "python3"
  },
  "language_info": {
   "codemirror_mode": {
    "name": "ipython",
    "version": 3
   },
   "file_extension": ".py",
   "mimetype": "text/x-python",
   "name": "python",
   "nbconvert_exporter": "python",
   "pygments_lexer": "ipython3",
   "version": "3.11.9"
  }
 },
 "nbformat": 4,
 "nbformat_minor": 2
}
