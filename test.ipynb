{
 "cells": [
  {
   "cell_type": "code",
   "execution_count": 4,
   "metadata": {},
   "outputs": [],
   "source": [
    "from powerbi.powerbi_get_data import pre_report_cash, pre_report_sales\n",
    "import pandas as pd\n",
    "\n",
    "report_sales = pre_report_sales\n",
    "report_cash = pre_report_cash"
   ]
  },
  {
   "cell_type": "code",
   "execution_count": 5,
   "metadata": {},
   "outputs": [
    {
     "data": {
      "text/html": [
       "<div>\n",
       "<style scoped>\n",
       "    .dataframe tbody tr th:only-of-type {\n",
       "        vertical-align: middle;\n",
       "    }\n",
       "\n",
       "    .dataframe tbody tr th {\n",
       "        vertical-align: top;\n",
       "    }\n",
       "\n",
       "    .dataframe thead th {\n",
       "        text-align: right;\n",
       "    }\n",
       "</style>\n",
       "<table border=\"1\" class=\"dataframe\">\n",
       "  <thead>\n",
       "    <tr style=\"text-align: right;\">\n",
       "      <th></th>\n",
       "      <th>Счет</th>\n",
       "      <th>EUR</th>\n",
       "      <th>KZT</th>\n",
       "      <th>USD</th>\n",
       "    </tr>\n",
       "  </thead>\n",
       "  <tbody>\n",
       "    <tr>\n",
       "      <th>0</th>\n",
       "      <td>АО \"Народный Банк Казахста\"</td>\n",
       "      <td>114 064</td>\n",
       "      <td>55 809 212</td>\n",
       "      <td>125 186</td>\n",
       "    </tr>\n",
       "    <tr>\n",
       "      <th>1</th>\n",
       "      <td>Основная касса</td>\n",
       "      <td>3 095</td>\n",
       "      <td>1 514 375</td>\n",
       "      <td>3 397</td>\n",
       "    </tr>\n",
       "    <tr>\n",
       "      <th>2</th>\n",
       "      <td>валютный EUR Народный банк</td>\n",
       "      <td>14 187</td>\n",
       "      <td>6 941 431</td>\n",
       "      <td>15 570</td>\n",
       "    </tr>\n",
       "  </tbody>\n",
       "</table>\n",
       "</div>"
      ],
      "text/plain": [
       "                          Счет      EUR         KZT      USD\n",
       "0  АО \"Народный Банк Казахста\"  114 064  55 809 212  125 186\n",
       "1               Основная касса    3 095   1 514 375    3 397\n",
       "2   валютный EUR Народный банк   14 187   6 941 431   15 570"
      ]
     },
     "execution_count": 5,
     "metadata": {},
     "output_type": "execute_result"
    }
   ],
   "source": [
    "report_cash = report_cash.copy()\n",
    "report_cash = report_cash.rename(columns={\n",
    "    '2 Проводки[Bank_account]': 'Счет',\n",
    "    'Пркл_Валюта[Валюта]': 'currency',\n",
    "    '[cash]': 'amount'\n",
    "    }\n",
    "                           )\n",
    "report_cash = report_cash.pivot_table(\n",
    "    index='Счет',\n",
    "    columns='currency',\n",
    "    values='amount',\n",
    "    aggfunc='sum'\n",
    ").rename_axis(columns=None).reset_index()\n",
    "\n",
    "report_cash[['KZT', 'EUR', 'USD']] = report_cash[['KZT', 'EUR', 'USD']].apply(lambda x: x.apply(lambda y: '{:,.0f}'.format(y).replace(',', ' ')))\n",
    "report_cash"
   ]
  },
  {
   "cell_type": "code",
   "execution_count": 18,
   "metadata": {},
   "outputs": [
    {
     "data": {
      "text/plain": [
       "{'АО \"Народный Банк Казахста\"': {'EUR': '114 064',\n",
       "  'KZT': '55 809 212',\n",
       "  'USD': '125 186'},\n",
       " 'Основная касса': {'EUR': '3 095', 'KZT': '1 514 375', 'USD': '3 397'},\n",
       " 'валютный EUR Народный банк': {'EUR': '14 187',\n",
       "  'KZT': '6 941 431',\n",
       "  'USD': '15 570'}}"
      ]
     },
     "execution_count": 18,
     "metadata": {},
     "output_type": "execute_result"
    }
   ],
   "source": [
    "json_data = report_cash.to_dict(orient='records')#[0]\n",
    "json_data\n",
    "data_dict = {item.pop('Счет'): item for item in json_data}\n",
    "data_dict"
   ]
  }
 ],
 "metadata": {
  "kernelspec": {
   "display_name": "Python 3",
   "language": "python",
   "name": "python3"
  },
  "language_info": {
   "codemirror_mode": {
    "name": "ipython",
    "version": 3
   },
   "file_extension": ".py",
   "mimetype": "text/x-python",
   "name": "python",
   "nbconvert_exporter": "python",
   "pygments_lexer": "ipython3",
   "version": "3.11.9"
  }
 },
 "nbformat": 4,
 "nbformat_minor": 2
}
